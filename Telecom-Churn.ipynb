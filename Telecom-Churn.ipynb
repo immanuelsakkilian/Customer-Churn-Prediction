{
 "cells": [
  {
   "cell_type": "markdown",
   "metadata": {},
   "source": [
    "## Customer Churn Prediction for TELECOM Company\n",
    "#### Lots of companies face the issue of losing their customers, so as a part of customer retention program we need to predict customer churn before they decide to leave.<br/>In order to do that we would use this dataset and create a Classification model to predict that whether a customer would churn or not."
   ]
  },
  {
   "cell_type": "code",
   "execution_count": 1,
   "metadata": {},
   "outputs": [
    {
     "data": {
      "text/html": [
       "<div>\n",
       "<style scoped>\n",
       "    .dataframe tbody tr th:only-of-type {\n",
       "        vertical-align: middle;\n",
       "    }\n",
       "\n",
       "    .dataframe tbody tr th {\n",
       "        vertical-align: top;\n",
       "    }\n",
       "\n",
       "    .dataframe thead th {\n",
       "        text-align: right;\n",
       "    }\n",
       "</style>\n",
       "<table border=\"1\" class=\"dataframe\">\n",
       "  <thead>\n",
       "    <tr style=\"text-align: right;\">\n",
       "      <th></th>\n",
       "      <th>customerID</th>\n",
       "      <th>gender</th>\n",
       "      <th>SeniorCitizen</th>\n",
       "      <th>Partner</th>\n",
       "      <th>Dependents</th>\n",
       "      <th>tenure</th>\n",
       "      <th>PhoneService</th>\n",
       "      <th>MultipleLines</th>\n",
       "      <th>InternetService</th>\n",
       "      <th>OnlineSecurity</th>\n",
       "      <th>OnlineBackup</th>\n",
       "      <th>DeviceProtection</th>\n",
       "      <th>TechSupport</th>\n",
       "      <th>StreamingTV</th>\n",
       "      <th>StreamingMovies</th>\n",
       "      <th>Contract</th>\n",
       "      <th>PaperlessBilling</th>\n",
       "      <th>PaymentMethod</th>\n",
       "      <th>MonthlyCharges</th>\n",
       "      <th>TotalCharges</th>\n",
       "      <th>Churn</th>\n",
       "    </tr>\n",
       "  </thead>\n",
       "  <tbody>\n",
       "    <tr>\n",
       "      <td>0</td>\n",
       "      <td>7590-VHVEG</td>\n",
       "      <td>Female</td>\n",
       "      <td>0</td>\n",
       "      <td>Yes</td>\n",
       "      <td>No</td>\n",
       "      <td>1</td>\n",
       "      <td>No</td>\n",
       "      <td>No phone service</td>\n",
       "      <td>DSL</td>\n",
       "      <td>No</td>\n",
       "      <td>Yes</td>\n",
       "      <td>No</td>\n",
       "      <td>No</td>\n",
       "      <td>No</td>\n",
       "      <td>No</td>\n",
       "      <td>Month-to-month</td>\n",
       "      <td>Yes</td>\n",
       "      <td>Electronic check</td>\n",
       "      <td>29.85</td>\n",
       "      <td>29.85</td>\n",
       "      <td>No</td>\n",
       "    </tr>\n",
       "    <tr>\n",
       "      <td>1</td>\n",
       "      <td>5575-GNVDE</td>\n",
       "      <td>Male</td>\n",
       "      <td>0</td>\n",
       "      <td>No</td>\n",
       "      <td>No</td>\n",
       "      <td>34</td>\n",
       "      <td>Yes</td>\n",
       "      <td>No</td>\n",
       "      <td>DSL</td>\n",
       "      <td>Yes</td>\n",
       "      <td>No</td>\n",
       "      <td>Yes</td>\n",
       "      <td>No</td>\n",
       "      <td>No</td>\n",
       "      <td>No</td>\n",
       "      <td>One year</td>\n",
       "      <td>No</td>\n",
       "      <td>Mailed check</td>\n",
       "      <td>56.95</td>\n",
       "      <td>1889.5</td>\n",
       "      <td>No</td>\n",
       "    </tr>\n",
       "    <tr>\n",
       "      <td>2</td>\n",
       "      <td>3668-QPYBK</td>\n",
       "      <td>Male</td>\n",
       "      <td>0</td>\n",
       "      <td>No</td>\n",
       "      <td>No</td>\n",
       "      <td>2</td>\n",
       "      <td>Yes</td>\n",
       "      <td>No</td>\n",
       "      <td>DSL</td>\n",
       "      <td>Yes</td>\n",
       "      <td>Yes</td>\n",
       "      <td>No</td>\n",
       "      <td>No</td>\n",
       "      <td>No</td>\n",
       "      <td>No</td>\n",
       "      <td>Month-to-month</td>\n",
       "      <td>Yes</td>\n",
       "      <td>Mailed check</td>\n",
       "      <td>53.85</td>\n",
       "      <td>108.15</td>\n",
       "      <td>Yes</td>\n",
       "    </tr>\n",
       "    <tr>\n",
       "      <td>3</td>\n",
       "      <td>7795-CFOCW</td>\n",
       "      <td>Male</td>\n",
       "      <td>0</td>\n",
       "      <td>No</td>\n",
       "      <td>No</td>\n",
       "      <td>45</td>\n",
       "      <td>No</td>\n",
       "      <td>No phone service</td>\n",
       "      <td>DSL</td>\n",
       "      <td>Yes</td>\n",
       "      <td>No</td>\n",
       "      <td>Yes</td>\n",
       "      <td>Yes</td>\n",
       "      <td>No</td>\n",
       "      <td>No</td>\n",
       "      <td>One year</td>\n",
       "      <td>No</td>\n",
       "      <td>Bank transfer (automatic)</td>\n",
       "      <td>42.30</td>\n",
       "      <td>1840.75</td>\n",
       "      <td>No</td>\n",
       "    </tr>\n",
       "    <tr>\n",
       "      <td>4</td>\n",
       "      <td>9237-HQITU</td>\n",
       "      <td>Female</td>\n",
       "      <td>0</td>\n",
       "      <td>No</td>\n",
       "      <td>No</td>\n",
       "      <td>2</td>\n",
       "      <td>Yes</td>\n",
       "      <td>No</td>\n",
       "      <td>Fiber optic</td>\n",
       "      <td>No</td>\n",
       "      <td>No</td>\n",
       "      <td>No</td>\n",
       "      <td>No</td>\n",
       "      <td>No</td>\n",
       "      <td>No</td>\n",
       "      <td>Month-to-month</td>\n",
       "      <td>Yes</td>\n",
       "      <td>Electronic check</td>\n",
       "      <td>70.70</td>\n",
       "      <td>151.65</td>\n",
       "      <td>Yes</td>\n",
       "    </tr>\n",
       "  </tbody>\n",
       "</table>\n",
       "</div>"
      ],
      "text/plain": [
       "   customerID  gender  SeniorCitizen Partner Dependents  tenure PhoneService  \\\n",
       "0  7590-VHVEG  Female              0     Yes         No       1           No   \n",
       "1  5575-GNVDE    Male              0      No         No      34          Yes   \n",
       "2  3668-QPYBK    Male              0      No         No       2          Yes   \n",
       "3  7795-CFOCW    Male              0      No         No      45           No   \n",
       "4  9237-HQITU  Female              0      No         No       2          Yes   \n",
       "\n",
       "      MultipleLines InternetService OnlineSecurity OnlineBackup  \\\n",
       "0  No phone service             DSL             No          Yes   \n",
       "1                No             DSL            Yes           No   \n",
       "2                No             DSL            Yes          Yes   \n",
       "3  No phone service             DSL            Yes           No   \n",
       "4                No     Fiber optic             No           No   \n",
       "\n",
       "  DeviceProtection TechSupport StreamingTV StreamingMovies        Contract  \\\n",
       "0               No          No          No              No  Month-to-month   \n",
       "1              Yes          No          No              No        One year   \n",
       "2               No          No          No              No  Month-to-month   \n",
       "3              Yes         Yes          No              No        One year   \n",
       "4               No          No          No              No  Month-to-month   \n",
       "\n",
       "  PaperlessBilling              PaymentMethod  MonthlyCharges TotalCharges  \\\n",
       "0              Yes           Electronic check           29.85        29.85   \n",
       "1               No               Mailed check           56.95       1889.5   \n",
       "2              Yes               Mailed check           53.85       108.15   \n",
       "3               No  Bank transfer (automatic)           42.30      1840.75   \n",
       "4              Yes           Electronic check           70.70       151.65   \n",
       "\n",
       "  Churn  \n",
       "0    No  \n",
       "1    No  \n",
       "2   Yes  \n",
       "3    No  \n",
       "4   Yes  "
      ]
     },
     "execution_count": 1,
     "metadata": {},
     "output_type": "execute_result"
    }
   ],
   "source": [
    "import pandas as pd\n",
    "import numpy as np\n",
    "import matplotlib.pyplot as plt\n",
    "%matplotlib inline\n",
    "\n",
    "pd.set_option('display.max_columns', 50)\n",
    "df1=pd.read_csv('Telco-Customer-Churn.csv')\n",
    "df1.head()"
   ]
  },
  {
   "cell_type": "markdown",
   "metadata": {},
   "source": [
    "#### We have 7043 records with 21 different features including customer id and churn"
   ]
  },
  {
   "cell_type": "code",
   "execution_count": 2,
   "metadata": {},
   "outputs": [
    {
     "data": {
      "text/plain": [
       "(7043, 21)"
      ]
     },
     "execution_count": 2,
     "metadata": {},
     "output_type": "execute_result"
    }
   ],
   "source": [
    "df1.shape"
   ]
  },
  {
   "cell_type": "markdown",
   "metadata": {},
   "source": [
    "#### Most of the columns are object type, but for developing model we need numeric values and some label encoding as well, so now we will change datatype of some columns and change string values to numeric values by encoding them."
   ]
  },
  {
   "cell_type": "code",
   "execution_count": 3,
   "metadata": {},
   "outputs": [
    {
     "data": {
      "text/plain": [
       "customerID           object\n",
       "gender               object\n",
       "SeniorCitizen         int64\n",
       "Partner              object\n",
       "Dependents           object\n",
       "tenure                int64\n",
       "PhoneService         object\n",
       "MultipleLines        object\n",
       "InternetService      object\n",
       "OnlineSecurity       object\n",
       "OnlineBackup         object\n",
       "DeviceProtection     object\n",
       "TechSupport          object\n",
       "StreamingTV          object\n",
       "StreamingMovies      object\n",
       "Contract             object\n",
       "PaperlessBilling     object\n",
       "PaymentMethod        object\n",
       "MonthlyCharges      float64\n",
       "TotalCharges         object\n",
       "Churn                object\n",
       "dtype: object"
      ]
     },
     "execution_count": 3,
     "metadata": {},
     "output_type": "execute_result"
    }
   ],
   "source": [
    "df1.dtypes"
   ]
  },
  {
   "cell_type": "code",
   "execution_count": 4,
   "metadata": {},
   "outputs": [],
   "source": [
    "def changeColumnsToString(df):\n",
    "    columnsNames=['Partner','Dependents','PhoneService','MultipleLines','OnlineSecurity','OnlineBackup','DeviceProtection','TechSupport','StreamingTV','StreamingMovies','PaperlessBilling','Churn']\n",
    "    for col in columnsNames:\n",
    "        df1[col]=df1[col].astype('str').str.replace('Yes','1').replace('No','0').replace('No internet service','0').replace('No phone service',0)\n",
    "\n",
    "changeColumnsToString(df1)\n",
    "\n",
    "df1['SeniorCitizen']=df1['SeniorCitizen'].astype(bool)\n",
    "df1['TotalCharges']=pd.to_numeric(df1['TotalCharges'],errors='coerce')"
   ]
  },
  {
   "cell_type": "code",
   "execution_count": 5,
   "metadata": {},
   "outputs": [
    {
     "data": {
      "text/html": [
       "<div>\n",
       "<style scoped>\n",
       "    .dataframe tbody tr th:only-of-type {\n",
       "        vertical-align: middle;\n",
       "    }\n",
       "\n",
       "    .dataframe tbody tr th {\n",
       "        vertical-align: top;\n",
       "    }\n",
       "\n",
       "    .dataframe thead th {\n",
       "        text-align: right;\n",
       "    }\n",
       "</style>\n",
       "<table border=\"1\" class=\"dataframe\">\n",
       "  <thead>\n",
       "    <tr style=\"text-align: right;\">\n",
       "      <th></th>\n",
       "      <th>customerID</th>\n",
       "      <th>gender</th>\n",
       "      <th>SeniorCitizen</th>\n",
       "      <th>Partner</th>\n",
       "      <th>Dependents</th>\n",
       "      <th>tenure</th>\n",
       "      <th>PhoneService</th>\n",
       "      <th>MultipleLines</th>\n",
       "      <th>InternetService</th>\n",
       "      <th>OnlineSecurity</th>\n",
       "      <th>OnlineBackup</th>\n",
       "      <th>DeviceProtection</th>\n",
       "      <th>TechSupport</th>\n",
       "      <th>StreamingTV</th>\n",
       "      <th>StreamingMovies</th>\n",
       "      <th>Contract</th>\n",
       "      <th>PaperlessBilling</th>\n",
       "      <th>PaymentMethod</th>\n",
       "      <th>MonthlyCharges</th>\n",
       "      <th>TotalCharges</th>\n",
       "      <th>Churn</th>\n",
       "    </tr>\n",
       "  </thead>\n",
       "  <tbody>\n",
       "    <tr>\n",
       "      <td>0</td>\n",
       "      <td>7590-VHVEG</td>\n",
       "      <td>Female</td>\n",
       "      <td>False</td>\n",
       "      <td>1</td>\n",
       "      <td>0</td>\n",
       "      <td>1</td>\n",
       "      <td>0</td>\n",
       "      <td>0</td>\n",
       "      <td>DSL</td>\n",
       "      <td>0</td>\n",
       "      <td>1</td>\n",
       "      <td>0</td>\n",
       "      <td>0</td>\n",
       "      <td>0</td>\n",
       "      <td>0</td>\n",
       "      <td>Month-to-month</td>\n",
       "      <td>1</td>\n",
       "      <td>Electronic check</td>\n",
       "      <td>29.85</td>\n",
       "      <td>29.85</td>\n",
       "      <td>0</td>\n",
       "    </tr>\n",
       "    <tr>\n",
       "      <td>1</td>\n",
       "      <td>5575-GNVDE</td>\n",
       "      <td>Male</td>\n",
       "      <td>False</td>\n",
       "      <td>0</td>\n",
       "      <td>0</td>\n",
       "      <td>34</td>\n",
       "      <td>1</td>\n",
       "      <td>0</td>\n",
       "      <td>DSL</td>\n",
       "      <td>1</td>\n",
       "      <td>0</td>\n",
       "      <td>1</td>\n",
       "      <td>0</td>\n",
       "      <td>0</td>\n",
       "      <td>0</td>\n",
       "      <td>One year</td>\n",
       "      <td>0</td>\n",
       "      <td>Mailed check</td>\n",
       "      <td>56.95</td>\n",
       "      <td>1889.50</td>\n",
       "      <td>0</td>\n",
       "    </tr>\n",
       "  </tbody>\n",
       "</table>\n",
       "</div>"
      ],
      "text/plain": [
       "   customerID  gender  SeniorCitizen Partner Dependents  tenure PhoneService  \\\n",
       "0  7590-VHVEG  Female          False       1          0       1            0   \n",
       "1  5575-GNVDE    Male          False       0          0      34            1   \n",
       "\n",
       "  MultipleLines InternetService OnlineSecurity OnlineBackup DeviceProtection  \\\n",
       "0             0             DSL              0            1                0   \n",
       "1             0             DSL              1            0                1   \n",
       "\n",
       "  TechSupport StreamingTV StreamingMovies        Contract PaperlessBilling  \\\n",
       "0           0           0               0  Month-to-month                1   \n",
       "1           0           0               0        One year                0   \n",
       "\n",
       "      PaymentMethod  MonthlyCharges  TotalCharges Churn  \n",
       "0  Electronic check           29.85         29.85     0  \n",
       "1      Mailed check           56.95       1889.50     0  "
      ]
     },
     "execution_count": 5,
     "metadata": {},
     "output_type": "execute_result"
    }
   ],
   "source": [
    "df1.head(2)"
   ]
  },
  {
   "cell_type": "markdown",
   "metadata": {},
   "source": [
    "#### There are some categorical values which can be encoded as numbers, so we will take a look at unique values present as categories and convert these fields as category and encode them."
   ]
  },
  {
   "cell_type": "code",
   "execution_count": 6,
   "metadata": {},
   "outputs": [
    {
     "name": "stdout",
     "output_type": "stream",
     "text": [
      "Payment methods:  ['Electronic check' 'Mailed check' 'Bank transfer (automatic)'\n",
      " 'Credit card (automatic)']\n",
      "Contract types:  ['Month-to-month' 'One year' 'Two year']\n",
      "Gender:  ['Female' 'Male']\n",
      "Senior Citizen:  [False  True]\n",
      "Internet Service Types:  ['DSL' 'Fiber optic' 'No']\n"
     ]
    }
   ],
   "source": [
    "print(\"Payment methods: \",df1.PaymentMethod.unique())\n",
    "print(\"Contract types: \",df1.Contract.unique())\n",
    "print(\"Gender: \",df1.gender.unique())\n",
    "print(\"Senior Citizen: \",df1.SeniorCitizen.unique())\n",
    "print(\"Internet Service Types: \",df1.InternetService.unique())"
   ]
  },
  {
   "cell_type": "code",
   "execution_count": 7,
   "metadata": {},
   "outputs": [
    {
     "data": {
      "text/plain": [
       "customerID            object\n",
       "gender              category\n",
       "SeniorCitizen       category\n",
       "Partner               object\n",
       "Dependents            object\n",
       "tenure                 int64\n",
       "PhoneService          object\n",
       "MultipleLines         object\n",
       "InternetService     category\n",
       "OnlineSecurity        object\n",
       "OnlineBackup          object\n",
       "DeviceProtection      object\n",
       "TechSupport           object\n",
       "StreamingTV           object\n",
       "StreamingMovies       object\n",
       "Contract            category\n",
       "PaperlessBilling      object\n",
       "PaymentMethod       category\n",
       "MonthlyCharges       float64\n",
       "TotalCharges         float64\n",
       "Churn                 object\n",
       "dtype: object"
      ]
     },
     "execution_count": 7,
     "metadata": {},
     "output_type": "execute_result"
    }
   ],
   "source": [
    "df1['gender']=df1['gender'].astype('category')\n",
    "df1['PaymentMethod']=df1['PaymentMethod'].astype('category')\n",
    "df1['Contract']=df1['Contract'].astype('category')\n",
    "df1['SeniorCitizen']=df1['SeniorCitizen'].astype('category')\n",
    "df1['InternetService']=df1['InternetService'].astype('category')\n",
    "df1.dtypes"
   ]
  },
  {
   "cell_type": "code",
   "execution_count": 8,
   "metadata": {},
   "outputs": [
    {
     "name": "stdout",
     "output_type": "stream",
     "text": [
      "   customerID Partner Dependents  tenure PhoneService MultipleLines  \\\n",
      "0  7590-VHVEG       1          0       1            0             0   \n",
      "1  5575-GNVDE       0          0      34            1             0   \n",
      "2  3668-QPYBK       0          0       2            1             0   \n",
      "3  7795-CFOCW       0          0      45            0             0   \n",
      "4  9237-HQITU       0          0       2            1             0   \n",
      "\n",
      "  OnlineSecurity OnlineBackup DeviceProtection TechSupport StreamingTV  \\\n",
      "0              0            1                0           0           0   \n",
      "1              1            0                1           0           0   \n",
      "2              1            1                0           0           0   \n",
      "3              1            0                1           1           0   \n",
      "4              0            0                0           0           0   \n",
      "\n",
      "  StreamingMovies PaperlessBilling  MonthlyCharges  TotalCharges Churn  \\\n",
      "0               0                1           29.85         29.85     0   \n",
      "1               0                0           56.95       1889.50     0   \n",
      "2               0                1           53.85        108.15     1   \n",
      "3               0                0           42.30       1840.75     0   \n",
      "4               0                1           70.70        151.65     1   \n",
      "\n",
      "   gender_new  PaymentMethod_new  Contract_new  SeniorCitizen_new  \\\n",
      "0           0                  2             0                  0   \n",
      "1           1                  3             1                  0   \n",
      "2           1                  3             0                  0   \n",
      "3           1                  0             1                  0   \n",
      "4           0                  2             0                  0   \n",
      "\n",
      "   InternetService_new  \n",
      "0                    0  \n",
      "1                    0  \n",
      "2                    0  \n",
      "3                    0  \n",
      "4                    1  \n",
      "   customerID  gender SeniorCitizen Partner Dependents  tenure PhoneService  \\\n",
      "0  7590-VHVEG  Female         False       1          0       1            0   \n",
      "1  5575-GNVDE    Male         False       0          0      34            1   \n",
      "2  3668-QPYBK    Male         False       0          0       2            1   \n",
      "3  7795-CFOCW    Male         False       0          0      45            0   \n",
      "4  9237-HQITU  Female         False       0          0       2            1   \n",
      "\n",
      "  MultipleLines InternetService OnlineSecurity OnlineBackup DeviceProtection  \\\n",
      "0             0             DSL              0            1                0   \n",
      "1             0             DSL              1            0                1   \n",
      "2             0             DSL              1            1                0   \n",
      "3             0             DSL              1            0                1   \n",
      "4             0     Fiber optic              0            0                0   \n",
      "\n",
      "  TechSupport StreamingTV StreamingMovies        Contract PaperlessBilling  \\\n",
      "0           0           0               0  Month-to-month                1   \n",
      "1           0           0               0        One year                0   \n",
      "2           0           0               0  Month-to-month                1   \n",
      "3           1           0               0        One year                0   \n",
      "4           0           0               0  Month-to-month                1   \n",
      "\n",
      "               PaymentMethod  MonthlyCharges  TotalCharges Churn  gender_new  \\\n",
      "0           Electronic check           29.85         29.85     0           0   \n",
      "1               Mailed check           56.95       1889.50     0           1   \n",
      "2               Mailed check           53.85        108.15     1           1   \n",
      "3  Bank transfer (automatic)           42.30       1840.75     0           1   \n",
      "4           Electronic check           70.70        151.65     1           0   \n",
      "\n",
      "   PaymentMethod_new  Contract_new  SeniorCitizen_new  InternetService_new  \n",
      "0                  2             0                  0                    0  \n",
      "1                  3             1                  0                    0  \n",
      "2                  3             0                  0                    0  \n",
      "3                  0             1                  0                    0  \n",
      "4                  2             0                  0                    1  \n"
     ]
    }
   ],
   "source": [
    "from sklearn.preprocessing import LabelEncoder\n",
    "df = df1\n",
    "le_encoder = LabelEncoder()\n",
    "df['gender_new']=le_encoder.fit_transform(df['gender'])\n",
    "df['PaymentMethod_new']=le_encoder.fit_transform(df['PaymentMethod'])\n",
    "df['Contract_new']=le_encoder.fit_transform(df['Contract'])\n",
    "df['SeniorCitizen_new']=le_encoder.fit_transform(df['SeniorCitizen'])\n",
    "df['InternetService_new']=le_encoder.fit_transform(df['InternetService'])\n",
    "df = df1.drop(['gender','Contract','PaymentMethod','SeniorCitizen','InternetService'],axis='columns')\n",
    "print(df.head())\n",
    "print(df1.head())\n",
    "#df['PaymentMethod']=df['PaymentMethod'].astype('category')\n",
    "#df['Contract']=df['Contract'].astype('category')\n",
    "#df['SeniorCitizen']=df['SeniorCitizen'].astype('category')\n",
    "#df['InternetService']=df['InternetService'].astype('category')\n"
   ]
  },
  {
   "cell_type": "code",
   "execution_count": 9,
   "metadata": {},
   "outputs": [
    {
     "data": {
      "text/html": [
       "<div>\n",
       "<style scoped>\n",
       "    .dataframe tbody tr th:only-of-type {\n",
       "        vertical-align: middle;\n",
       "    }\n",
       "\n",
       "    .dataframe tbody tr th {\n",
       "        vertical-align: top;\n",
       "    }\n",
       "\n",
       "    .dataframe thead th {\n",
       "        text-align: right;\n",
       "    }\n",
       "</style>\n",
       "<table border=\"1\" class=\"dataframe\">\n",
       "  <thead>\n",
       "    <tr style=\"text-align: right;\">\n",
       "      <th></th>\n",
       "      <th>customerID</th>\n",
       "      <th>Partner</th>\n",
       "      <th>Dependents</th>\n",
       "      <th>tenure</th>\n",
       "      <th>PhoneService</th>\n",
       "      <th>MultipleLines</th>\n",
       "      <th>OnlineSecurity</th>\n",
       "      <th>OnlineBackup</th>\n",
       "      <th>DeviceProtection</th>\n",
       "      <th>TechSupport</th>\n",
       "      <th>StreamingTV</th>\n",
       "      <th>StreamingMovies</th>\n",
       "      <th>PaperlessBilling</th>\n",
       "      <th>MonthlyCharges</th>\n",
       "      <th>TotalCharges</th>\n",
       "      <th>Churn</th>\n",
       "      <th>gender_new</th>\n",
       "      <th>PaymentMethod_new</th>\n",
       "      <th>Contract_new</th>\n",
       "      <th>SeniorCitizen_new</th>\n",
       "      <th>InternetService_new</th>\n",
       "    </tr>\n",
       "  </thead>\n",
       "  <tbody>\n",
       "    <tr>\n",
       "      <th>0</th>\n",
       "      <td>7590-VHVEG</td>\n",
       "      <td>1</td>\n",
       "      <td>0</td>\n",
       "      <td>1</td>\n",
       "      <td>0</td>\n",
       "      <td>0</td>\n",
       "      <td>0</td>\n",
       "      <td>1</td>\n",
       "      <td>0</td>\n",
       "      <td>0</td>\n",
       "      <td>0</td>\n",
       "      <td>0</td>\n",
       "      <td>1</td>\n",
       "      <td>29.85</td>\n",
       "      <td>29.85</td>\n",
       "      <td>0</td>\n",
       "      <td>0</td>\n",
       "      <td>2</td>\n",
       "      <td>0</td>\n",
       "      <td>0</td>\n",
       "      <td>0</td>\n",
       "    </tr>\n",
       "    <tr>\n",
       "      <th>1</th>\n",
       "      <td>5575-GNVDE</td>\n",
       "      <td>0</td>\n",
       "      <td>0</td>\n",
       "      <td>34</td>\n",
       "      <td>1</td>\n",
       "      <td>0</td>\n",
       "      <td>1</td>\n",
       "      <td>0</td>\n",
       "      <td>1</td>\n",
       "      <td>0</td>\n",
       "      <td>0</td>\n",
       "      <td>0</td>\n",
       "      <td>0</td>\n",
       "      <td>56.95</td>\n",
       "      <td>1889.50</td>\n",
       "      <td>0</td>\n",
       "      <td>1</td>\n",
       "      <td>3</td>\n",
       "      <td>1</td>\n",
       "      <td>0</td>\n",
       "      <td>0</td>\n",
       "    </tr>\n",
       "  </tbody>\n",
       "</table>\n",
       "</div>"
      ],
      "text/plain": [
       "   customerID Partner Dependents  tenure PhoneService MultipleLines  \\\n",
       "0  7590-VHVEG       1          0       1            0             0   \n",
       "1  5575-GNVDE       0          0      34            1             0   \n",
       "\n",
       "  OnlineSecurity OnlineBackup DeviceProtection TechSupport StreamingTV  \\\n",
       "0              0            1                0           0           0   \n",
       "1              1            0                1           0           0   \n",
       "\n",
       "  StreamingMovies PaperlessBilling  MonthlyCharges  TotalCharges Churn  \\\n",
       "0               0                1           29.85         29.85     0   \n",
       "1               0                0           56.95       1889.50     0   \n",
       "\n",
       "   gender_new  PaymentMethod_new  Contract_new  SeniorCitizen_new  \\\n",
       "0           0                  2             0                  0   \n",
       "1           1                  3             1                  0   \n",
       "\n",
       "   InternetService_new  \n",
       "0                    0  \n",
       "1                    0  "
      ]
     },
     "execution_count": 9,
     "metadata": {},
     "output_type": "execute_result"
    }
   ],
   "source": [
    "#df.drop(['gender','PaymentMethod','Contract','SeniorCitizen','InternetService'], axis=1, inplace=True)\n",
    "\n",
    "#df = pd.concat([df, dfPaymentDummies], axis=1)\n",
    "#df = pd.concat([df, dfContractDummies], axis=1)\n",
    "#df = pd.concat([df, dfGenderDummies], axis=1)\n",
    "#df = pd.concat([df, dfSeniorCitizenDummies], axis=1)\n",
    "#df = pd.concat([df, dfInternetServiceDummies], axis=1)\n",
    "df.head(2)"
   ]
  },
  {
   "cell_type": "markdown",
   "metadata": {},
   "source": [
    "#### For a bit of simplicity, we'll rename some column names"
   ]
  },
  {
   "cell_type": "code",
   "execution_count": 9,
   "metadata": {},
   "outputs": [],
   "source": [
    "#df.columns = ['customerID', 'Partner', 'Dependents', 'tenure', 'PhoneService',\n",
    " #      'MultipleLines', 'OnlineSecurity', 'OnlineBackup', 'DeviceProtection',\n",
    "  #     'TechSupport', 'StreamingTV', 'StreamingMovies', 'PaperlessBilling',\n",
    "   #    'MonthlyCharges', 'TotalCharges', 'Churn',\n",
    "    #   'payment_Bank_transfer_auto', 'payment_Credit_card_auto',\n",
    "     #  'payment_Electronic_check', 'payment_Mailed_check',\n",
    "      # 'contract_Month_to_month', 'contract_One_year', 'contract_Two_year',\n",
    "       #'gender_Female', 'gender_Male', 'SC_False', 'SC_True', 'IS_DSL',\n",
    "       #'IS_Fiber_optic', 'IS_No']\n",
    "df.columns = ['customerID', 'Partner', 'Dependents', 'tenure', 'PhoneService','MultipleLines', 'OnlineSecurity', 'OnlineBackup', 'DeviceProtection','TechSupport', 'StreamingTV', 'StreamingMovies', 'PaperlessBilling','MonthlyCharges', 'TotalCharges', 'Churn','gender_new','PaymentMethod_new','Contract_new','SeniorCitizen_new','InternetService_new']"
   ]
  },
  {
   "cell_type": "markdown",
   "metadata": {},
   "source": [
    "#### We'll convert all fields to number type in dataframe for our model.\n",
    "#### Here we are wrapping up data preparation phase."
   ]
  },
  {
   "cell_type": "code",
   "execution_count": 10,
   "metadata": {},
   "outputs": [
    {
     "data": {
      "text/plain": [
       "customerID             float64\n",
       "Partner                  int64\n",
       "Dependents               int64\n",
       "tenure                   int64\n",
       "PhoneService             int64\n",
       "MultipleLines            int64\n",
       "OnlineSecurity           int64\n",
       "OnlineBackup             int64\n",
       "DeviceProtection         int64\n",
       "TechSupport              int64\n",
       "StreamingTV              int64\n",
       "StreamingMovies          int64\n",
       "PaperlessBilling         int64\n",
       "MonthlyCharges         float64\n",
       "TotalCharges           float64\n",
       "Churn                    int64\n",
       "gender_new               int32\n",
       "PaymentMethod_new        int32\n",
       "Contract_new             int32\n",
       "SeniorCitizen_new        int32\n",
       "InternetService_new      int32\n",
       "dtype: object"
      ]
     },
     "execution_count": 10,
     "metadata": {},
     "output_type": "execute_result"
    }
   ],
   "source": [
    "#numericColumns=np.array(['Partner', 'Dependents', 'tenure', 'PhoneService',\n",
    "#       'MultipleLines', 'OnlineSecurity', 'OnlineBackup', 'DeviceProtection',\n",
    "#       'TechSupport', 'StreamingTV', 'StreamingMovies', 'PaperlessBilling',\n",
    "#       'MonthlyCharges', 'TotalCharges', 'Churn',\n",
    "#       'payment_Bank_transfer_auto', 'payment_Credit_card_auto',\n",
    " #      'payment_Electronic_check', 'payment_Mailed_check',\n",
    "  #     'contract_Month_to_month', 'contract_One_year', 'contract_Two_year',\n",
    "   #    'gender_Female', 'gender_Male', 'SC_False', 'SC_True', 'IS_DSL',\n",
    "    #   'IS_Fiber_optic', 'IS_No'])\n",
    "numericColumns = np.array(['customerID', 'Partner', 'Dependents', 'tenure', 'PhoneService','MultipleLines', 'OnlineSecurity', 'OnlineBackup', 'DeviceProtection','TechSupport', 'StreamingTV', 'StreamingMovies', 'PaperlessBilling','MonthlyCharges', 'TotalCharges', 'Churn','gender_new','PaymentMethod_new','Contract_new','SeniorCitizen_new','InternetService_new'])\n",
    "for columnName in numericColumns:\n",
    "    df[columnName]=pd.to_numeric(df[columnName],errors='coerce')\n",
    "df.dtypes"
   ]
  },
  {
   "cell_type": "markdown",
   "metadata": {},
   "source": [
    "#### We'll save our model data to new csv file without customerID, as we won't be using that in our model development."
   ]
  },
  {
   "cell_type": "code",
   "execution_count": 11,
   "metadata": {},
   "outputs": [],
   "source": [
    "modelData = df.loc[:, df.columns != 'customerID']\n",
    "modelData.to_csv('modelData.csv')"
   ]
  },
  {
   "cell_type": "code",
   "execution_count": 12,
   "metadata": {},
   "outputs": [
    {
     "data": {
      "text/plain": [
       "Partner                 0\n",
       "Dependents              0\n",
       "tenure                  0\n",
       "PhoneService            0\n",
       "MultipleLines           0\n",
       "OnlineSecurity          0\n",
       "OnlineBackup            0\n",
       "DeviceProtection        0\n",
       "TechSupport             0\n",
       "StreamingTV             0\n",
       "StreamingMovies         0\n",
       "PaperlessBilling        0\n",
       "MonthlyCharges          0\n",
       "TotalCharges           11\n",
       "Churn                   0\n",
       "gender_new              0\n",
       "PaymentMethod_new       0\n",
       "Contract_new            0\n",
       "SeniorCitizen_new       0\n",
       "InternetService_new     0\n",
       "dtype: int64"
      ]
     },
     "execution_count": 12,
     "metadata": {},
     "output_type": "execute_result"
    }
   ],
   "source": [
    "# check for null values\n",
    "modelData.isnull().sum()"
   ]
  },
  {
   "cell_type": "markdown",
   "metadata": {},
   "source": [
    "### <b>Model Development</b>\n",
    "#### After reading our model data, we'll take our training and target data in numpy arrays"
   ]
  },
  {
   "cell_type": "code",
   "execution_count": 15,
   "metadata": {},
   "outputs": [
    {
     "name": "stdout",
     "output_type": "stream",
     "text": [
      "[[0.0000e+00 1.0000e+00 0.0000e+00 1.0000e+00 0.0000e+00 0.0000e+00\n",
      "  0.0000e+00 1.0000e+00 0.0000e+00 0.0000e+00 0.0000e+00 0.0000e+00\n",
      "  1.0000e+00 2.9850e+01 2.9850e+01 0.0000e+00 2.0000e+00 0.0000e+00\n",
      "  0.0000e+00 0.0000e+00]\n",
      " [1.0000e+00 0.0000e+00 0.0000e+00 3.4000e+01 1.0000e+00 0.0000e+00\n",
      "  1.0000e+00 0.0000e+00 1.0000e+00 0.0000e+00 0.0000e+00 0.0000e+00\n",
      "  0.0000e+00 5.6950e+01 1.8895e+03 1.0000e+00 3.0000e+00 1.0000e+00\n",
      "  0.0000e+00 0.0000e+00]]\n",
      "[0 0]\n"
     ]
    }
   ],
   "source": [
    "modelData=pd.read_csv('modelData.csv')\n",
    "\n",
    "modelData[modelData==np.inf]=np.nan\n",
    "modelData.fillna(modelData.mean(), inplace=True)\n",
    "\n",
    "x=np.asarray(modelData.loc[:,modelData.columns != 'Churn'])\n",
    "y=np.asarray(modelData['Churn'])\n",
    "\n",
    "print(x[:2])\n",
    "print(y[:2])"
   ]
  },
  {
   "cell_type": "markdown",
   "metadata": {},
   "source": [
    "#### Here we'll normalize our data by using sklearn's StandardScaler"
   ]
  },
  {
   "cell_type": "code",
   "execution_count": 16,
   "metadata": {},
   "outputs": [
    {
     "data": {
      "text/plain": [
       "array([[-1.7318049 ,  1.03453023, -0.65401193, -1.27744458, -3.05401039,\n",
       "        -0.85417615, -0.63393298,  1.3782406 , -0.72396752, -0.63943864,\n",
       "        -0.79013171, -0.79607014,  0.8297975 , -1.16032292, -0.99497138,\n",
       "        -1.00955867,  0.39855772, -0.8282069 , -0.43991649, -1.18323364],\n",
       "       [-1.73131305, -0.96662231, -0.65401193,  0.06632742,  0.32743831,\n",
       "        -0.85417615,  1.57745383, -0.72556272,  1.38127743, -0.63943864,\n",
       "        -0.79013171, -0.79607014, -1.20511329, -0.25962894, -0.17387565,\n",
       "         0.99053183,  1.33486261,  0.37127103, -0.43991649, -1.18323364]])"
      ]
     },
     "execution_count": 16,
     "metadata": {},
     "output_type": "execute_result"
    }
   ],
   "source": [
    "from sklearn import preprocessing\n",
    "x = preprocessing.StandardScaler().fit(x).transform(x)\n",
    "x[0:2]"
   ]
  },
  {
   "cell_type": "markdown",
   "metadata": {},
   "source": [
    "#### It is recommended practice of splitting data in training and testing before using it in model, in our case we are keeping 80/20 data for training and testing respectively."
   ]
  },
  {
   "cell_type": "code",
   "execution_count": 21,
   "metadata": {},
   "outputs": [
    {
     "name": "stdout",
     "output_type": "stream",
     "text": [
      "Train set: (5634, 20) (5634,)\n",
      "Test set: (1409, 20) (1409,)\n"
     ]
    }
   ],
   "source": [
    "from sklearn.model_selection import train_test_split\n",
    "\n",
    "X_train, X_test, y_train, y_test = train_test_split( x, y, test_size=0.2, random_state=72)\n",
    "print ('Train set:', X_train.shape,  y_train.shape)\n",
    "print ('Test set:', X_test.shape,  y_test.shape)"
   ]
  },
  {
   "cell_type": "markdown",
   "metadata": {},
   "source": [
    "#### Before fitting data to our model, feature selection is very essential part of model development.\n",
    "#### Here we are using sklearn's RandomForestClassifier with ensemble learning to choose most relevent features for our model. It will iteratively select most relevent features and eliminate least relevent features and threshold will be median for feature selection."
   ]
  },
  {
   "cell_type": "code",
   "execution_count": 18,
   "metadata": {},
   "outputs": [
    {
     "name": "stdout",
     "output_type": "stream",
     "text": [
      "The shape of x_train:  (5634, 20)\n",
      "The shape of x_train_s:  (5634, 10)\n"
     ]
    }
   ],
   "source": [
    "from sklearn.feature_selection import SelectFromModel\n",
    "from sklearn.ensemble import RandomForestClassifier\n",
    "\n",
    "select = SelectFromModel(RandomForestClassifier(n_estimators=100, random_state=37), threshold='median')\n",
    "select.fit(X_train, y_train)\n",
    "\n",
    "X_train_s = select.transform(X_train)\n",
    "\n",
    "print('The shape of x_train: ',X_train.shape)\n",
    "print('The shape of x_train_s: ',X_train_s.shape)"
   ]
  },
  {
   "cell_type": "markdown",
   "metadata": {},
   "source": [
    "#### As we can see in above feature selection process, we got 10 most relevent features out of 20 from our training data.\n",
    "#### We can see here black colored area shows all those features are relevent and selected."
   ]
  },
  {
   "cell_type": "code",
   "execution_count": 22,
   "metadata": {},
   "outputs": [
    {
     "data": {
      "text/plain": [
       "Text(0.5, 0, 'Index of features')"
      ]
     },
     "execution_count": 22,
     "metadata": {},
     "output_type": "execute_result"
    },
    {
     "data": {
      "image/png": "[encoded data removed]",
      "text/plain": [
       "<Figure size 1152x144 with 1 Axes>"
      ]
     },
     "metadata": {
      "needs_background": "light"
     },
     "output_type": "display_data"
    }
   ],
   "source": [
    "mask=select.get_support()\n",
    "plt.matshow(mask.reshape(1,-1), cmap='gray_r')\n",
    "plt.xlabel('Index of features')"
   ]
  },
  {
   "cell_type": "markdown",
   "metadata": {},
   "source": [
    "#### We're fitting our training data to LogicalRegression and making prediction on our test data.\n",
    "#### Accuracy of our model is around 79%, and that means 79/100 times we can make correct prediction."
   ]
  },
  {
   "cell_type": "code",
   "execution_count": 24,
   "metadata": {},
   "outputs": [
    {
     "name": "stderr",
     "output_type": "stream",
     "text": [
      "C:\\Users\\lenovo\\Anaconda3\\lib\\site-packages\\sklearn\\linear_model\\logistic.py:432: FutureWarning: Default solver will be changed to 'lbfgs' in 0.22. Specify a solver to silence this warning.\n",
      "  FutureWarning)\n"
     ]
    },
    {
     "name": "stdout",
     "output_type": "stream",
     "text": [
      "The score of Logistic Regerssion for customer churn: 0.799\n"
     ]
    }
   ],
   "source": [
    "X_test_s = select.transform(X_test)\n",
    "\n",
    "from sklearn.linear_model import LogisticRegression\n",
    "lr=LogisticRegression()\n",
    "score = lr.fit(X_train,y_train).score(X_test, y_test)\n",
    "print('The score of Logistic Regerssion for customer churn: {:.3f}'.format(score))"
   ]
  },
  {
   "cell_type": "code",
   "execution_count": 26,
   "metadata": {},
   "outputs": [
    {
     "name": "stdout",
     "output_type": "stream",
     "text": [
      "The score of Decision tree classifier for customer churn: 0.713\n",
      "The score of Decision tree classifier(with feature selection) for customer churn: 0.711\n"
     ]
    }
   ],
   "source": [
    "from sklearn.tree import DecisionTreeClassifier\n",
    "dt = DecisionTreeClassifier()\n",
    "score1_dt = dt.fit(X_train,y_train).score(X_test, y_test)\n",
    "score2_dt = dt.fit(X_train_s,y_train).score(X_test_s, y_test)\n",
    "print('The score of Decision tree classifier for customer churn: {:.3f}'.format(score1_dt))\n",
    "print('The score of Decision tree classifier(with feature selection) for customer churn: {:.3f}'.format(score2_dt))"
   ]
  },
  {
   "cell_type": "code",
   "execution_count": 27,
   "metadata": {},
   "outputs": [
    {
     "name": "stdout",
     "output_type": "stream",
     "text": [
      "The score of Decision tree classifier for customer churn: 0.727\n",
      "The score of Decision tree classifier(with feature selection) for customer churn: 0.712\n"
     ]
    }
   ],
   "source": [
    "from sklearn.neighbors import KNeighborsClassifier\n",
    "knn = KNeighborsClassifier()\n",
    "score1_knn = dt.fit(X_train,y_train).score(X_test, y_test)\n",
    "score2_knn = dt.fit(X_train_s,y_train).score(X_test_s, y_test)\n",
    "print('The score of Decision tree classifier for customer churn: {:.3f}'.format(score1_knn))\n",
    "print('The score of Decision tree classifier(with feature selection) for customer churn: {:.3f}'.format(score2_knn))"
   ]
  },
  {
   "cell_type": "code",
   "execution_count": 28,
   "metadata": {},
   "outputs": [
    {
     "name": "stdout",
     "output_type": "stream",
     "text": [
      "The score of Decision tree classifier for customer churn: 0.715\n",
      "The score of Decision tree classifier(with feature selection) for customer churn: 0.712\n"
     ]
    }
   ],
   "source": [
    "from sklearn.svm import SVC\n",
    "svm = SVC()\n",
    "score1_svm = dt.fit(X_train,y_train).score(X_test, y_test)\n",
    "score2_svm = dt.fit(X_train_s,y_train).score(X_test_s, y_test)\n",
    "print('The score of Decision tree classifier for customer churn: {:.3f}'.format(score1_svm))\n",
    "print('The score of Decision tree classifier(with feature selection) for customer churn: {:.3f}'.format(score2_svm))"
   ]
  },
  {
   "cell_type": "code",
   "execution_count": null,
   "metadata": {},
   "outputs": [],
   "source": []
  }
 ],
 "metadata": {
  "kernelspec": {
   "display_name": "Python 3",
   "language": "python",
   "name": "python3"
  },
  "language_info": {
   "codemirror_mode": {
    "name": "ipython",
    "version": 3
   },
   "file_extension": ".py",
   "mimetype": "text/x-python",
   "name": "python",
   "nbconvert_exporter": "python",
   "pygments_lexer": "ipython3",
   "version": "3.7.3"
  }
 },
 "nbformat": 4,
 "nbformat_minor": 2
}
